{
 "cells": [
  {
   "cell_type": "code",
   "execution_count": null,
   "id": "1603ad28-35b6-4527-a4cd-06d62a248c3c",
   "metadata": {},
   "outputs": [],
   "source": []
  }
 ],
 "metadata": {
  "kernelspec": {
   "display_name": "",
   "name": ""
  },
  "language_info": {
   "name": ""
  }
 },
 "nbformat": 4,
 "nbformat_minor": 5
}
